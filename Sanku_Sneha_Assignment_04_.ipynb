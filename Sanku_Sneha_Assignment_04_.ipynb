{
  "nbformat": 4,
  "nbformat_minor": 0,
  "metadata": {
    "colab": {
      "provenance": [],
      "authorship_tag": "ABX9TyPrUH1SQrzyV55PmsQRwypr",
      "include_colab_link": true
    },
    "kernelspec": {
      "name": "python3",
      "display_name": "Python 3"
    },
    "language_info": {
      "name": "python"
    }
  },
  "cells": [
    {
      "cell_type": "markdown",
      "metadata": {
        "id": "view-in-github",
        "colab_type": "text"
      },
      "source": [
        "<a href=\"https://colab.research.google.com/github/Snehareddy0504/Sneha_INFO5731_Spring2025/blob/main/Sanku_Sneha_Assignment_04_.ipynb\" target=\"_parent\"><img src=\"https://colab.research.google.com/assets/colab-badge.svg\" alt=\"Open In Colab\"/></a>"
      ]
    },
    {
      "cell_type": "code",
      "execution_count": 2,
      "metadata": {
        "colab": {
          "base_uri": "https://localhost:8080/",
          "height": 17
        },
        "id": "8KDcDmMUyI1j",
        "outputId": "56078f7b-a331-4c35-a909-ac095b02c5f5"
      },
      "outputs": [
        {
          "output_type": "display_data",
          "data": {
            "text/plain": [
              "<IPython.core.display.Javascript object>"
            ],
            "application/javascript": [
              "\n",
              "    async function download(id, filename, size) {\n",
              "      if (!google.colab.kernel.accessAllowed) {\n",
              "        return;\n",
              "      }\n",
              "      const div = document.createElement('div');\n",
              "      const label = document.createElement('label');\n",
              "      label.textContent = `Downloading \"${filename}\": `;\n",
              "      div.appendChild(label);\n",
              "      const progress = document.createElement('progress');\n",
              "      progress.max = size;\n",
              "      div.appendChild(progress);\n",
              "      document.body.appendChild(div);\n",
              "\n",
              "      const buffers = [];\n",
              "      let downloaded = 0;\n",
              "\n",
              "      const channel = await google.colab.kernel.comms.open(id);\n",
              "      // Send a message to notify the kernel that we're ready.\n",
              "      channel.send({})\n",
              "\n",
              "      for await (const message of channel.messages) {\n",
              "        // Send a message to notify the kernel that we're ready.\n",
              "        channel.send({})\n",
              "        if (message.buffers) {\n",
              "          for (const buffer of message.buffers) {\n",
              "            buffers.push(buffer);\n",
              "            downloaded += buffer.byteLength;\n",
              "            progress.value = downloaded;\n",
              "          }\n",
              "        }\n",
              "      }\n",
              "      const blob = new Blob(buffers, {type: 'application/binary'});\n",
              "      const a = document.createElement('a');\n",
              "      a.href = window.URL.createObjectURL(blob);\n",
              "      a.download = filename;\n",
              "      div.appendChild(a);\n",
              "      a.click();\n",
              "      div.remove();\n",
              "    }\n",
              "  "
            ]
          },
          "metadata": {}
        },
        {
          "output_type": "display_data",
          "data": {
            "text/plain": [
              "<IPython.core.display.Javascript object>"
            ],
            "application/javascript": [
              "download(\"download_97c889dc-033c-4bc8-9cdf-a22ed4caa5e6\", \"Sanku_Sneha_Assignment_04 (1).ipynb\", 5804074)"
            ]
          },
          "metadata": {}
        }
      ],
      "source": [
        "import json\n",
        "from google.colab import files\n",
        "!pip install nbformat --quiet\n",
        "import nbformat\n",
        "\n",
        "# Load your notebook\n",
        "notebook_path = '/content/Sanku_Sneha_Assignment_04 (1).ipynb'  # Update if your notebook is elsewhere\n",
        "notebook = nbformat.read(notebook_path, as_version=4)\n",
        "\n",
        "# Fix the metadata widgets issue\n",
        "if 'metadata' in notebook and 'widgets' in notebook['metadata']:\n",
        "    widgets = notebook['metadata']['widgets']\n",
        "    if isinstance(widgets, list):\n",
        "        # Either add state to each widget or remove widgets\n",
        "        for widget in widgets:\n",
        "            if isinstance(widget, dict) and 'state' not in widget:\n",
        "                widget['state'] = {}\n",
        "    else:\n",
        "        # If widgets isn't a proper list, just remove it\n",
        "        notebook['metadata'].pop('widgets', None)\n",
        "\n",
        "# Save the fixed notebook\n",
        "fixed_path = '/content/Sanku_Sneha_Assignment_04 (1).ipynb'\n",
        "nbformat.write(notebook, fixed_path)\n",
        "\n",
        "# Download the fixed notebook\n",
        "files.download(fixed_path)"
      ]
    }
  ]
}